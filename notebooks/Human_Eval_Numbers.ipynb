{
 "cells": [
  {
   "cell_type": "code",
   "execution_count": null,
   "id": "daily-muslim",
   "metadata": {},
   "outputs": [],
   "source": [
    "import pandas as pd\n",
    "import pickle\n",
    "import re"
   ]
  },
  {
   "cell_type": "code",
   "execution_count": null,
   "id": "knowing-guard",
   "metadata": {},
   "outputs": [],
   "source": [
    "def load_cache(cache_fname):\n",
    "    with open(cache_fname, 'rb') as fp:\n",
    "        cache = pickle.load(fp)\n",
    "    return cache\n",
    "\n",
    "def retrieve_from_cache(cache, question, answer, narrative):\n",
    "\n",
    "    \"\"\"\n",
    "    Use question, answer and narrative to retrieve all associated values\n",
    "    Return failure if key not found\n",
    "    \"\"\"\n",
    "\n",
    "    key = (question.lower(), answer.lower(), narrative.lower())\n",
    "    try:\n",
    "        return cache[key]\n",
    "    except:\n",
    "        return {'message': 'Key not found'}"
   ]
  },
  {
   "cell_type": "code",
   "execution_count": null,
   "id": "fleet-grocery",
   "metadata": {},
   "outputs": [],
   "source": [
    "cache = load_cache('../artifacts/human_eval_cache.pkl')"
   ]
  },
  {
   "cell_type": "code",
   "execution_count": null,
   "id": "victorian-hospital",
   "metadata": {},
   "outputs": [],
   "source": [
    "def remove_punctuation(text):\n",
    "    result = re.sub(r'[^\\w\\s]', '', text)\n",
    "    return result"
   ]
  },
  {
   "cell_type": "code",
   "execution_count": null,
   "id": "fifteen-polish",
   "metadata": {},
   "outputs": [],
   "source": [
    "def overall_avg_likert(df, cache):\n",
    "    likerts = []\n",
    "    for idx, row in df.iterrows():\n",
    "        question = row['question']\n",
    "        try:\n",
    "            answer = remove_punctuation(row['predicted_answer'])\n",
    "        except:\n",
    "            answer = remove_punctuation(row['answer'])\n",
    "        narrative = row['narrative']\n",
    "        key = (question, answer, narrative)\n",
    "        info = retrieve_from_cache(cache, key[0], key[1], key[2])\n",
    "        likertscores = info['val_annotations']\n",
    "        likert = sum(likertscores) / len(likertscores)\n",
    "        likerts.append(likert)\n",
    "    print(f'Overall avg Likert for all answers {round(sum(likerts) / len(likerts), 2)}')"
   ]
  },
  {
   "cell_type": "code",
   "execution_count": null,
   "id": "interstate-moscow",
   "metadata": {},
   "outputs": [],
   "source": [
    "def overall_avg_binary_likert(df, cache):\n",
    "    likerts = []\n",
    "    for idx, row in df.iterrows():\n",
    "        question = row['question']\n",
    "        try:\n",
    "            answer = remove_punctuation(row['predicted_answer'])\n",
    "        except:\n",
    "            answer = remove_punctuation(row['answer'])\n",
    "        narrative = row['narrative']\n",
    "        key = (question, answer, narrative)\n",
    "        info = retrieve_from_cache(cache, key[0], key[1], key[2])\n",
    "        likertscores = info['val_annotations']\n",
    "        binary_likertscores = [0 if x < 1 else 1 for x in likertscores]\n",
    "        likert = sum(binary_likertscores) / len(binary_likertscores)\n",
    "        likerts.append(likert)\n",
    "    print(f'Overall avg binary Likert for all answers: {round(sum(likerts) / len(likerts), 2)}')"
   ]
  },
  {
   "cell_type": "code",
   "execution_count": null,
   "id": "scenic-church",
   "metadata": {},
   "outputs": [],
   "source": [
    "def get_all_numbers(df, cache):\n",
    "    overall_avg_likert(df, cache)\n",
    "    overall_avg_binary_likert(df, cache)"
   ]
  },
  {
   "cell_type": "code",
   "execution_count": null,
   "id": "regional-supply",
   "metadata": {},
   "outputs": [],
   "source": [
    "def evaluate_df_by_onto(df, cache):\n",
    "    \n",
    "    conseq_df = df[df['onto'] == 'Consequence']\n",
    "    print('Consequence')\n",
    "    get_all_numbers(conseq_df, cache)\n",
    "    \n",
    "    goal_df = df[df['onto'] == 'Goal seeking']\n",
    "    print('Goal seeking')\n",
    "    get_all_numbers(goal_df, cache)\n",
    "    \n",
    "    reac_df = df[df['onto'] == 'Reactionary']\n",
    "    print('Reactionary')\n",
    "    get_all_numbers(reac_df, cache)\n",
    "    \n",
    "    desire_df = df[df['onto'] == 'Desire']\n",
    "    print('Desire')\n",
    "    get_all_numbers(desire_df, cache)\n",
    "    \n",
    "    other_df = df[df['onto'] == 'Other']\n",
    "    print('Other')\n",
    "    get_all_numbers(other_df, cache)"
   ]
  },
  {
   "cell_type": "code",
   "execution_count": null,
   "id": "thick-window",
   "metadata": {},
   "outputs": [],
   "source": [
    "ontology_df = pd.read_csv('../artifacts/hidden_test_set_ontology.csv')"
   ]
  },
  {
   "cell_type": "code",
   "execution_count": null,
   "id": "historic-contract",
   "metadata": {},
   "outputs": [],
   "source": [
    "meta_to_ontology_dict = {}\n",
    "for idx, row in ontology_df.iterrows():\n",
    "    meta_to_ontology_dict[row['question_meta']] = row['Ontology']"
   ]
  },
  {
   "cell_type": "code",
   "execution_count": null,
   "id": "hydraulic-verse",
   "metadata": {},
   "outputs": [],
   "source": [
    "def add_onto_to_df(df, meta_to_ontology_dict):\n",
    "    ontos = []\n",
    "    for idx, row in df.iterrows():\n",
    "        try:\n",
    "            ontos.append(meta_to_ontology_dict[row['question_meta']])\n",
    "        except:\n",
    "            ontos.append(meta_to_ontology_dict[row['meta']])\n",
    "    df['onto'] = ontos\n",
    "    return df"
   ]
  },
  {
   "cell_type": "code",
   "execution_count": null,
   "id": "automatic-ethics",
   "metadata": {},
   "outputs": [],
   "source": [
    "onto_count_dict = ontology_df['Ontology'].value_counts().to_dict()"
   ]
  },
  {
   "cell_type": "code",
   "execution_count": null,
   "id": "difficult-london",
   "metadata": {},
   "outputs": [],
   "source": [
    "onto_count_dict"
   ]
  },
  {
   "cell_type": "code",
   "execution_count": null,
   "id": "greatest-cream",
   "metadata": {},
   "outputs": [],
   "source": [
    "t5_df = pd.read_csv('../artifacts/model_predictions/t5base_w_n_separator.csv')\n",
    "t5_df = add_onto_to_df(t5_df, meta_to_ontology_dict)\n",
    "get_all_numbers(t5_df, cache)"
   ]
  },
  {
   "cell_type": "code",
   "execution_count": null,
   "id": "dressed-disco",
   "metadata": {},
   "outputs": [],
   "source": [
    "impl_t5_df = t5_df[t5_df['is_ques_answerable'] == 'Not Answerable']\n",
    "get_all_numbers(impl_t5_df, cache)"
   ]
  },
  {
   "cell_type": "code",
   "execution_count": null,
   "id": "attended-attempt",
   "metadata": {},
   "outputs": [],
   "source": [
    "evaluate_df_by_onto(impl_t5_df, cache)"
   ]
  },
  {
   "cell_type": "code",
   "execution_count": null,
   "id": "prostate-costs",
   "metadata": {},
   "outputs": [],
   "source": [
    "t5_knowl_df = pd.read_csv('../artifacts/model_predictions/t5base_w_n_separator_w_knowl.csv')\n",
    "t5_knowl_df = add_onto_to_df(t5_knowl_df, meta_to_ontology_dict)\n",
    "get_all_numbers(t5_knowl_df, cache)"
   ]
  },
  {
   "cell_type": "code",
   "execution_count": null,
   "id": "stunning-thomson",
   "metadata": {},
   "outputs": [],
   "source": [
    "impl_t5_knowl_df = t5_knowl_df[t5_knowl_df['is_ques_answerable'] == 'Not Answerable']\n",
    "get_all_numbers(impl_t5_knowl_df, cache)"
   ]
  },
  {
   "cell_type": "code",
   "execution_count": null,
   "id": "comic-ordinance",
   "metadata": {},
   "outputs": [],
   "source": [
    "evaluate_df_by_onto(impl_t5_knowl_df, cache)"
   ]
  },
  {
   "cell_type": "code",
   "execution_count": null,
   "id": "eastern-animation",
   "metadata": {},
   "outputs": [],
   "source": []
  },
  {
   "cell_type": "code",
   "execution_count": null,
   "id": "initial-argument",
   "metadata": {},
   "outputs": [],
   "source": [
    "t511b_df = pd.read_csv('../artifacts/model_predictions/t511b_w_n_separator.csv')\n",
    "t511b_df = add_onto_to_df(t511b_df, meta_to_ontology_dict)\n",
    "get_all_numbers(t511b_df, cache)"
   ]
  },
  {
   "cell_type": "code",
   "execution_count": null,
   "id": "conditional-atmosphere",
   "metadata": {},
   "outputs": [],
   "source": [
    "impl_t511b_df = t511b_df[t511b_df['is_ques_answerable'] == 'Not Answerable']\n",
    "get_all_numbers(impl_t511b_df, cache)"
   ]
  },
  {
   "cell_type": "code",
   "execution_count": null,
   "id": "initial-sculpture",
   "metadata": {},
   "outputs": [],
   "source": [
    "evaluate_df_by_onto(impl_t511b_df, cache)"
   ]
  },
  {
   "cell_type": "code",
   "execution_count": null,
   "id": "tender-burner",
   "metadata": {},
   "outputs": [],
   "source": [
    "# this file is the t511b with top 3 diverse comet verbalized\n",
    "t511b_knowl_df = pd.read_csv('../artifacts/model_predictions/t511b_w_n_separator_w_knowl.csv')\n",
    "t511b_knowl_df = add_onto_to_df(t511b_knowl_df, meta_to_ontology_dict)\n",
    "get_all_numbers(t511b_knowl_df, cache)"
   ]
  },
  {
   "cell_type": "code",
   "execution_count": null,
   "id": "unable-tower",
   "metadata": {},
   "outputs": [],
   "source": [
    "impl_t511b_knowl_df = t511b_knowl_df[t511b_knowl_df['is_ques_answerable'] == 'Not Answerable']\n",
    "get_all_numbers(impl_t511b_knowl_df, cache)"
   ]
  },
  {
   "cell_type": "code",
   "execution_count": null,
   "id": "exotic-circular",
   "metadata": {},
   "outputs": [],
   "source": [
    "evaluate_df_by_onto(impl_t511b_knowl_df, cache)"
   ]
  },
  {
   "cell_type": "code",
   "execution_count": null,
   "id": "great-angola",
   "metadata": {},
   "outputs": [],
   "source": []
  },
  {
   "cell_type": "code",
   "execution_count": null,
   "id": "signal-affairs",
   "metadata": {},
   "outputs": [],
   "source": [
    "gpt3_df = pd.read_csv('../artifacts/model_predictions/gpt3.csv')\n",
    "gpt3_df = add_onto_to_df(gpt3_df, meta_to_ontology_dict)\n",
    "get_all_numbers(gpt3_df, cache)"
   ]
  },
  {
   "cell_type": "code",
   "execution_count": null,
   "id": "retired-waters",
   "metadata": {},
   "outputs": [],
   "source": [
    "impl_gpt3_df = gpt3_df[gpt3_df['is_ques_answerable'] == 'Not Answerable']\n",
    "get_all_numbers(impl_gpt3_df, cache)"
   ]
  },
  {
   "cell_type": "code",
   "execution_count": null,
   "id": "worthy-isolation",
   "metadata": {},
   "outputs": [],
   "source": [
    "evaluate_df_by_onto(impl_gpt3_df, cache)"
   ]
  },
  {
   "cell_type": "code",
   "execution_count": null,
   "id": "perceived-cambodia",
   "metadata": {},
   "outputs": [],
   "source": [
    "gpt3_knowl_df = pd.read_csv('../artifacts/model_predictions/gpt3_w_knowl.csv')\n",
    "gpt3_knowl_df = add_onto_to_df(gpt3_knowl_df, meta_to_ontology_dict)\n",
    "get_all_numbers(gpt3_knowl_df, cache)"
   ]
  },
  {
   "cell_type": "code",
   "execution_count": null,
   "id": "hindu-proposal",
   "metadata": {},
   "outputs": [],
   "source": [
    "impl_gpt3_knowl_df = gpt3_knowl_df[gpt3_knowl_df['is_ques_answerable'] == 'Not Answerable']\n",
    "get_all_numbers(impl_gpt3_knowl_df, cache)"
   ]
  },
  {
   "cell_type": "code",
   "execution_count": null,
   "id": "proved-group",
   "metadata": {},
   "outputs": [],
   "source": [
    "evaluate_df_by_onto(impl_gpt3_knowl_df, cache)"
   ]
  },
  {
   "cell_type": "code",
   "execution_count": null,
   "id": "restricted-violin",
   "metadata": {},
   "outputs": [],
   "source": []
  },
  {
   "cell_type": "markdown",
   "id": "lyric-title",
   "metadata": {},
   "source": [
    "# Model Setup"
   ]
  },
  {
   "cell_type": "markdown",
   "id": "expanded-dietary",
   "metadata": {},
   "source": [
    "## Base"
   ]
  },
  {
   "cell_type": "code",
   "execution_count": null,
   "id": "numerical-waste",
   "metadata": {},
   "outputs": [],
   "source": [
    "print('Gtup top3')\n",
    "t5_df = pd.read_csv('../artifacts/model_predictions/t5base_tup_top3_diverse.csv')\n",
    "t5_df = add_onto_to_df(t5_df, meta_to_ontology_dict)\n",
    "get_all_numbers(t5_df, cache)"
   ]
  },
  {
   "cell_type": "code",
   "execution_count": null,
   "id": "occupational-offset",
   "metadata": {},
   "outputs": [],
   "source": [
    "impl_t5_df = t5_df[t5_df['is_ques_answerable'] == 'Not Answerable']\n",
    "get_all_numbers(impl_t5_df, cache)"
   ]
  },
  {
   "cell_type": "code",
   "execution_count": null,
   "id": "intensive-array",
   "metadata": {},
   "outputs": [],
   "source": []
  },
  {
   "cell_type": "code",
   "execution_count": null,
   "id": "accepting-postcard",
   "metadata": {},
   "outputs": [],
   "source": [
    "print('Gtupsep top3')\n",
    "t5_df = pd.read_csv('../artifacts/model_predictions/t5base_tupsep_top3_diverse.csv')\n",
    "t5_df = add_onto_to_df(t5_df, meta_to_ontology_dict)\n",
    "get_all_numbers(t5_df, cache)"
   ]
  },
  {
   "cell_type": "code",
   "execution_count": null,
   "id": "continuing-fitness",
   "metadata": {},
   "outputs": [],
   "source": [
    "impl_t5_df = t5_df[t5_df['is_ques_answerable'] == 'Not Answerable']\n",
    "get_all_numbers(impl_t5_df, cache)"
   ]
  },
  {
   "cell_type": "code",
   "execution_count": null,
   "id": "blocked-ontario",
   "metadata": {},
   "outputs": [],
   "source": []
  },
  {
   "cell_type": "code",
   "execution_count": null,
   "id": "palestinian-voluntary",
   "metadata": {},
   "outputs": [],
   "source": [
    "print('Gverb. top1')\n",
    "t5_df = pd.read_csv('../artifacts/model_predictions/t5base_verb_top1_diverse.csv')\n",
    "t5_df = add_onto_to_df(t5_df, meta_to_ontology_dict)\n",
    "get_all_numbers(t5_df, cache)"
   ]
  },
  {
   "cell_type": "code",
   "execution_count": null,
   "id": "religious-glass",
   "metadata": {},
   "outputs": [],
   "source": [
    "impl_t5_df = t5_df[t5_df['is_ques_answerable'] == 'Not Answerable']\n",
    "get_all_numbers(impl_t5_df, cache)"
   ]
  },
  {
   "cell_type": "code",
   "execution_count": null,
   "id": "recent-state",
   "metadata": {},
   "outputs": [],
   "source": []
  },
  {
   "cell_type": "code",
   "execution_count": null,
   "id": "natural-property",
   "metadata": {},
   "outputs": [],
   "source": [
    "print('Gverb. top5 diverse')\n",
    "t5_df = pd.read_csv('../artifacts/model_predictions/t5base_verb_top5_diverse.csv')\n",
    "t5_df = add_onto_to_df(t5_df, meta_to_ontology_dict)\n",
    "get_all_numbers(t5_df, cache)"
   ]
  },
  {
   "cell_type": "code",
   "execution_count": null,
   "id": "baking-square",
   "metadata": {},
   "outputs": [],
   "source": [
    "impl_t5_df = t5_df[t5_df['is_ques_answerable'] == 'Not Answerable']\n",
    "get_all_numbers(impl_t5_df, cache)"
   ]
  },
  {
   "cell_type": "code",
   "execution_count": null,
   "id": "fifteen-monaco",
   "metadata": {},
   "outputs": [],
   "source": []
  },
  {
   "cell_type": "code",
   "execution_count": null,
   "id": "charming-winning",
   "metadata": {},
   "outputs": [],
   "source": [
    "print('Gverb. top3 original')\n",
    "t5_df = pd.read_csv('../artifacts/model_predictions/t5base_verb_top3_original.csv')\n",
    "t5_df = add_onto_to_df(t5_df, meta_to_ontology_dict)\n",
    "get_all_numbers(t5_df, cache)"
   ]
  },
  {
   "cell_type": "code",
   "execution_count": null,
   "id": "august-nickname",
   "metadata": {},
   "outputs": [],
   "source": [
    "impl_t5_df = t5_df[t5_df['is_ques_answerable'] == 'Not Answerable']\n",
    "get_all_numbers(impl_t5_df, cache)"
   ]
  },
  {
   "cell_type": "code",
   "execution_count": null,
   "id": "macro-report",
   "metadata": {},
   "outputs": [],
   "source": []
  },
  {
   "cell_type": "code",
   "execution_count": null,
   "id": "flush-digest",
   "metadata": {},
   "outputs": [],
   "source": [
    "print('Gverb. top3 diverse')\n",
    "t5_df = pd.read_csv('../artifacts/model_predictions/t5base_verb_top3_diverse.csv')\n",
    "t5_df = add_onto_to_df(t5_df, meta_to_ontology_dict)\n",
    "get_all_numbers(t5_df, cache)"
   ]
  },
  {
   "cell_type": "code",
   "execution_count": null,
   "id": "swiss-shape",
   "metadata": {},
   "outputs": [],
   "source": [
    "impl_t5_df = t5_df[t5_df['is_ques_answerable'] == 'Not Answerable']\n",
    "get_all_numbers(impl_t5_df, cache)"
   ]
  },
  {
   "cell_type": "code",
   "execution_count": null,
   "id": "normal-minnesota",
   "metadata": {},
   "outputs": [],
   "source": []
  },
  {
   "cell_type": "code",
   "execution_count": null,
   "id": "rough-input",
   "metadata": {},
   "outputs": [],
   "source": [
    "print('Gverb. top3 reranked')\n",
    "t5_df = pd.read_csv('../artifacts/model_predictions/t5base_verb_top3_reranked.csv')\n",
    "t5_df = add_onto_to_df(t5_df, meta_to_ontology_dict)\n",
    "get_all_numbers(t5_df, cache)"
   ]
  },
  {
   "cell_type": "code",
   "execution_count": null,
   "id": "inner-friendly",
   "metadata": {},
   "outputs": [],
   "source": [
    "impl_t5_df = t5_df[t5_df['is_ques_answerable'] == 'Not Answerable']\n",
    "get_all_numbers(impl_t5_df, cache)"
   ]
  },
  {
   "cell_type": "code",
   "execution_count": null,
   "id": "nominated-joint",
   "metadata": {},
   "outputs": [],
   "source": []
  },
  {
   "cell_type": "code",
   "execution_count": null,
   "id": "handled-pharmacy",
   "metadata": {},
   "outputs": [],
   "source": [
    "print('T5 Appendix D.3 format - no separator')\n",
    "t5_df = pd.read_csv('../artifacts/model_predictions/t5base.csv')\n",
    "t5_df = add_onto_to_df(t5_df, meta_to_ontology_dict)\n",
    "get_all_numbers(t5_df, cache)"
   ]
  },
  {
   "cell_type": "code",
   "execution_count": null,
   "id": "younger-madness",
   "metadata": {},
   "outputs": [],
   "source": [
    "impl_t5_df = t5_df[t5_df['is_ques_answerable'] == 'Not Answerable']\n",
    "get_all_numbers(impl_t5_df, cache)"
   ]
  },
  {
   "cell_type": "code",
   "execution_count": null,
   "id": "cooperative-roman",
   "metadata": {},
   "outputs": [],
   "source": []
  },
  {
   "cell_type": "markdown",
   "id": "detailed-firmware",
   "metadata": {},
   "source": [
    "## 11B"
   ]
  },
  {
   "cell_type": "code",
   "execution_count": null,
   "id": "alternate-theater",
   "metadata": {},
   "outputs": [],
   "source": [
    "print('Gtup top3')\n",
    "t5_df = pd.read_csv('../artifacts/model_predictions/t511b_tup_top3_diverse.csv')\n",
    "t5_df = add_onto_to_df(t5_df, meta_to_ontology_dict)\n",
    "get_all_numbers(t5_df, cache)"
   ]
  },
  {
   "cell_type": "code",
   "execution_count": null,
   "id": "collected-battle",
   "metadata": {},
   "outputs": [],
   "source": [
    "impl_t5_df = t5_df[t5_df['is_ques_answerable'] == 'Not Answerable']\n",
    "get_all_numbers(impl_t5_df, cache)"
   ]
  },
  {
   "cell_type": "code",
   "execution_count": null,
   "id": "elect-separate",
   "metadata": {},
   "outputs": [],
   "source": []
  },
  {
   "cell_type": "code",
   "execution_count": null,
   "id": "included-mistake",
   "metadata": {},
   "outputs": [],
   "source": [
    "print('Gtupsep top3')\n",
    "t5_df = pd.read_csv('../artifacts/model_predictions/t511b_tupsep_top3_diverse.csv')\n",
    "t5_df = add_onto_to_df(t5_df, meta_to_ontology_dict)\n",
    "get_all_numbers(t5_df, cache)"
   ]
  },
  {
   "cell_type": "code",
   "execution_count": null,
   "id": "proved-waters",
   "metadata": {},
   "outputs": [],
   "source": [
    "impl_t5_df = t5_df[t5_df['is_ques_answerable'] == 'Not Answerable']\n",
    "get_all_numbers(impl_t5_df, cache)"
   ]
  },
  {
   "cell_type": "code",
   "execution_count": null,
   "id": "bright-north",
   "metadata": {},
   "outputs": [],
   "source": []
  },
  {
   "cell_type": "code",
   "execution_count": null,
   "id": "guided-dance",
   "metadata": {},
   "outputs": [],
   "source": [
    "print('Gverb. top1')\n",
    "t5_df = pd.read_csv('../artifacts/model_predictions/t511b_verb_top1_diverse.csv')\n",
    "t5_df = add_onto_to_df(t5_df, meta_to_ontology_dict)\n",
    "get_all_numbers(t5_df, cache)"
   ]
  },
  {
   "cell_type": "code",
   "execution_count": null,
   "id": "israeli-subscription",
   "metadata": {},
   "outputs": [],
   "source": [
    "impl_t5_df = t5_df[t5_df['is_ques_answerable'] == 'Not Answerable']\n",
    "get_all_numbers(impl_t5_df, cache)"
   ]
  },
  {
   "cell_type": "code",
   "execution_count": null,
   "id": "ready-robinson",
   "metadata": {},
   "outputs": [],
   "source": []
  },
  {
   "cell_type": "code",
   "execution_count": null,
   "id": "cosmetic-qualification",
   "metadata": {},
   "outputs": [],
   "source": [
    "print('Gverb. top5 diverse')\n",
    "t5_df = pd.read_csv('../artifacts/model_predictions/t511b_verb_top5_diverse.csv')\n",
    "t5_df = add_onto_to_df(t5_df, meta_to_ontology_dict)\n",
    "get_all_numbers(t5_df, cache)"
   ]
  },
  {
   "cell_type": "code",
   "execution_count": null,
   "id": "touched-cycling",
   "metadata": {},
   "outputs": [],
   "source": [
    "impl_t5_df = t5_df[t5_df['is_ques_answerable'] == 'Not Answerable']\n",
    "get_all_numbers(impl_t5_df, cache)"
   ]
  },
  {
   "cell_type": "code",
   "execution_count": null,
   "id": "sunset-protocol",
   "metadata": {},
   "outputs": [],
   "source": []
  },
  {
   "cell_type": "code",
   "execution_count": null,
   "id": "corrected-final",
   "metadata": {},
   "outputs": [],
   "source": [
    "print('Gverb. top3 original')\n",
    "t5_df = pd.read_csv('../artifacts/model_predictions/t511b_verb_top3_original.csv')\n",
    "t5_df = add_onto_to_df(t5_df, meta_to_ontology_dict)\n",
    "get_all_numbers(t5_df, cache)"
   ]
  },
  {
   "cell_type": "code",
   "execution_count": null,
   "id": "stunning-cornell",
   "metadata": {},
   "outputs": [],
   "source": [
    "impl_t5_df = t5_df[t5_df['is_ques_answerable'] == 'Not Answerable']\n",
    "get_all_numbers(impl_t5_df, cache)"
   ]
  },
  {
   "cell_type": "code",
   "execution_count": null,
   "id": "finite-reminder",
   "metadata": {},
   "outputs": [],
   "source": []
  },
  {
   "cell_type": "code",
   "execution_count": null,
   "id": "ultimate-german",
   "metadata": {},
   "outputs": [],
   "source": [
    "print('Gverb. top3 diverse')\n",
    "t5_df = pd.read_csv('../artifacts/model_predictions/t511b_verb_top3_diverse.csv')\n",
    "t5_df = add_onto_to_df(t5_df, meta_to_ontology_dict)\n",
    "get_all_numbers(t5_df, cache)"
   ]
  },
  {
   "cell_type": "code",
   "execution_count": null,
   "id": "piano-indonesian",
   "metadata": {},
   "outputs": [],
   "source": [
    "impl_t5_df = t5_df[t5_df['is_ques_answerable'] == 'Not Answerable']\n",
    "get_all_numbers(impl_t5_df, cache)"
   ]
  },
  {
   "cell_type": "code",
   "execution_count": null,
   "id": "coupled-jefferson",
   "metadata": {},
   "outputs": [],
   "source": []
  },
  {
   "cell_type": "code",
   "execution_count": null,
   "id": "historical-monitor",
   "metadata": {},
   "outputs": [],
   "source": [
    "print('Gverb. top3 reranked')\n",
    "t5_df = pd.read_csv('../artifacts/model_predictions/t511b_verb_top3_reranked.csv')\n",
    "t5_df = add_onto_to_df(t5_df, meta_to_ontology_dict)\n",
    "get_all_numbers(t5_df, cache)"
   ]
  },
  {
   "cell_type": "code",
   "execution_count": null,
   "id": "incredible-characterization",
   "metadata": {},
   "outputs": [],
   "source": [
    "impl_t5_df = t5_df[t5_df['is_ques_answerable'] == 'Not Answerable']\n",
    "get_all_numbers(impl_t5_df, cache)"
   ]
  },
  {
   "cell_type": "code",
   "execution_count": null,
   "id": "ideal-accreditation",
   "metadata": {},
   "outputs": [],
   "source": []
  },
  {
   "cell_type": "code",
   "execution_count": null,
   "id": "6cb9f572",
   "metadata": {},
   "outputs": [],
   "source": [
    "print('T5 Appendix D.3 format - no separator')\n",
    "t5_df = pd.read_csv('../artifacts/model_predictions/t511b.csv')\n",
    "t5_df = add_onto_to_df(t5_df, meta_to_ontology_dict)\n",
    "get_all_numbers(t5_df, cache)"
   ]
  },
  {
   "cell_type": "code",
   "execution_count": null,
   "id": "8d907633",
   "metadata": {},
   "outputs": [],
   "source": [
    "impl_t5_df = t5_df[t5_df['is_ques_answerable'] == 'Not Answerable']\n",
    "get_all_numbers(impl_t5_df, cache)"
   ]
  }
 ],
 "metadata": {
  "kernelspec": {
   "display_name": "Python 3 (ipykernel)",
   "language": "python",
   "name": "python3"
  },
  "language_info": {
   "codemirror_mode": {
    "name": "ipython",
    "version": 3
   },
   "file_extension": ".py",
   "mimetype": "text/x-python",
   "name": "python",
   "nbconvert_exporter": "python",
   "pygments_lexer": "ipython3",
   "version": "3.10.11"
  }
 },
 "nbformat": 4,
 "nbformat_minor": 5
}
